{
 "cells": [
  {
   "cell_type": "markdown",
   "metadata": {},
   "source": [
    "## British Gas Electricity Charge Calculator"
   ]
  },
  {
   "cell_type": "markdown",
   "metadata": {},
   "source": [
    "### Inputs\n",
    "Date of the last reading, last_reading_date\n",
    "\n",
    "Last day reading, last_reading_day\n",
    "\n",
    "Last night reading, last_reading_night\n",
    "\n",
    "Night charge, night_charge\n",
    "\n",
    "Day charge, day_charge\n",
    "\n",
    "Current day reading, current_reading_day\n",
    "\n",
    "Current night reading, current_reading_night\n",
    "\n",
    "Standing charge, stand_charge\n",
    "\n",
    "VAT"
   ]
  },
  {
   "cell_type": "code",
   "execution_count": null,
   "metadata": {},
   "outputs": [],
   "source": [
    "last_reading_date = input(\"Enter the date of the last reading: \")\n",
    "last_reading_day = float(input(\"Enter your previous day reading: \"))\n",
    "last_reading_night = float(input(\"Enter your previous night reading: \"))\n",
    "night_charge = float(input(\"Enter the night charge: \"))\n",
    "day_charge = float(input(\"Enter the day charge: \"))\n",
    "current_reading_day = float(input(\"Enter the current day reading: \"))\n",
    "current_reading_night = float(input(\"Enter the current night reading: \"))\n",
    "stand_charge = float(input(\"Enter the standing charge: \"))\n",
    "vat = float(input(\"Enter the VAT rate: \"))\n"
   ]
  },
  {
   "cell_type": "code",
   "execution_count": null,
   "metadata": {},
   "outputs": [],
   "source": [
    "# Compute the energy charge\n",
    "from datetime import time\n",
    "date_str = input(\"Enter date: \")\n",
    "date_timestamp = datetime.strptime(date_str, \"%d-%m-%Y\").date()\n",
    "\n",
    "num_of_days = (date.today() - date_timestamp).days\n",
    "total = (abs(last_reading_day - current_reading_day)*day_charge + abs(last_reading_night - current_reading_night)*night_charge + stand_charge*num_of_days)\n",
    "final_total = total + (total*vat)\n",
    "print(\"Your Bill is: £\",final_total)"
   ]
  },
  {
   "cell_type": "code",
   "execution_count": 3,
   "metadata": {},
   "outputs": [
    {
     "ename": "NameError",
     "evalue": "name 'date' is not defined",
     "output_type": "error",
     "traceback": [
      "\u001b[1;31m---------------------------------------------------------------------------\u001b[0m",
      "\u001b[1;31mNameError\u001b[0m                                 Traceback (most recent call last)",
      "\u001b[1;32m<ipython-input-3-e0be0be63af3>\u001b[0m in \u001b[0;36m<module>\u001b[1;34m()\u001b[0m\n\u001b[0;32m      1\u001b[0m \u001b[1;32mfrom\u001b[0m \u001b[0mdatetime\u001b[0m \u001b[1;32mimport\u001b[0m \u001b[0mdatetime\u001b[0m\u001b[1;33m\u001b[0m\u001b[0m\n\u001b[1;32m----> 2\u001b[1;33m \u001b[0mtoday\u001b[0m \u001b[1;33m=\u001b[0m \u001b[0mdate\u001b[0m\u001b[1;33m.\u001b[0m\u001b[0mtoday\u001b[0m\u001b[1;33m(\u001b[0m\u001b[1;33m)\u001b[0m\u001b[1;33m\u001b[0m\u001b[0m\n\u001b[0m\u001b[0;32m      3\u001b[0m \u001b[0mtoday\u001b[0m \u001b[1;33m=\u001b[0m \u001b[0mtoday\u001b[0m \u001b[1;33m-\u001b[0m \u001b[0mdate\u001b[0m\u001b[1;33m(\u001b[0m\u001b[1;36m2022\u001b[0m\u001b[1;33m,\u001b[0m\u001b[1;36m1\u001b[0m\u001b[1;33m,\u001b[0m\u001b[1;36m1\u001b[0m\u001b[1;33m)\u001b[0m\u001b[1;33m\u001b[0m\u001b[0m\n\u001b[0;32m      4\u001b[0m \u001b[0mprint\u001b[0m\u001b[1;33m(\u001b[0m\u001b[0mtoday\u001b[0m\u001b[1;33m)\u001b[0m\u001b[1;33m\u001b[0m\u001b[0m\n",
      "\u001b[1;31mNameError\u001b[0m: name 'date' is not defined"
     ]
    }
   ],
   "source": [
    "from datetime import datetime\n",
    "today = date.today()\n",
    "today = today - date(2022,1,1)\n",
    "print(today)"
   ]
  },
  {
   "cell_type": "code",
   "execution_count": null,
   "metadata": {},
   "outputs": [],
   "source": [
    "from datetime import time\n",
    "date_str = input(\"Enter the date: \")\n",
    "date_timestamp = datetime.strptime(date_str, \"%d-%m-%Y\").date()\n",
    "#d_date = datetime.strptime(date_str, '%m-%d-%Y').date()\n",
    "print(date_timestamp)\n",
    "print((date.today() - date_timestamp).days)"
   ]
  },
  {
   "cell_type": "code",
   "execution_count": null,
   "metadata": {},
   "outputs": [],
   "source": []
  },
  {
   "cell_type": "code",
   "execution_count": null,
   "metadata": {},
   "outputs": [],
   "source": []
  }
 ],
 "metadata": {
  "kernelspec": {
   "display_name": "Python 3 (ipykernel)",
   "language": "python",
   "name": "python3"
  },
  "language_info": {
   "codemirror_mode": {
    "name": "ipython",
    "version": 3
   },
   "file_extension": ".py",
   "mimetype": "text/x-python",
   "name": "python",
   "nbconvert_exporter": "python",
   "pygments_lexer": "ipython3",
   "version": "3.8.12"
  }
 },
 "nbformat": 4,
 "nbformat_minor": 2
}
